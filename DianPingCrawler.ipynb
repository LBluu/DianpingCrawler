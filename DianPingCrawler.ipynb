{
 "cells": [
  {
   "cell_type": "code",
   "execution_count": 2,
   "outputs": [],
   "source": [
    "import os\n",
    "import random\n",
    "import re\n",
    "import time\n",
    "import requests\n",
    "from lxml import etree\n",
    "import math\n",
    "from selenium import webdriver"
   ],
   "metadata": {
    "collapsed": false,
    "pycharm": {
     "name": "#%%\n"
    }
   }
  },
  {
   "cell_type": "code",
   "execution_count": 63,
   "outputs": [],
   "source": [
    "class Crawler():\n",
    "    def __init__(self,data_fold,info_url):\n",
    "        self.data_fold = data_fold\n",
    "        self.headers = {\n",
    "            'User-Agent':'Mozilla/5.0 (Macintosh; Intel Mac OS X 10_15_7) AppleWebKit/537.36 (KHTML, like Gecko) Chrome/99.0.4844.74 Safari/537.36',\n",
    "            'Referer': 'http://www.dianping.com/beijing/ch50/g183',\n",
    "            'Cookie':''\n",
    "        }\n",
    "\n",
    "        self.info_url = info_url\n",
    "        self.store_id = self.info_url.split('/')[-1]\n",
    "        self.fold_path = self.data_fold+'/'+self.store_id\n",
    "        if not os.path.exists(self.fold_path):\n",
    "            os.makedirs(self.fold_path)\n",
    "\n",
    "    def get_pages_1(self,url):\n",
    "        # 第一种获取页面内容方法--response\n",
    "        response = requests.get(url = url,headers=self.headers).text\n",
    "        return response\n",
    "\n",
    "\n",
    "    def get_pages_2(self):\n",
    "        '''\n",
    "        获取店铺评论总数量（两种页面格式，对应两种方法）\n",
    "        '''\n",
    "        # 第二种获取页面内容方法--直接下载页面\n",
    "        driver = webdriver.Chrome('chromedriver')\n",
    "        driver.get(self.info_url)\n",
    "        time.sleep(30)\n",
    "        # 暂停30s，在这个时间进行登陆操作\n",
    "\n",
    "        url = self.info_url+'/review_more/p%s'\n",
    "        # 获取店铺ID\n",
    "        # 第一种解析页面方法\n",
    "        try:\n",
    "            # 美食店面格式\n",
    "            driver.get(self.info_url)\n",
    "            time.sleep(random.randint(5,10))\n",
    "            response = driver.page_source\n",
    "            tree = etree.HTML(response)\n",
    "            assess_number = tree.xpath('//*[@id=\"defaultcomment-wrapper\"]/a/span/text()')[0][1:-1]\n",
    "        except:\n",
    "            # 医美店面格式\n",
    "            self.get_pages_1(url=self.info_url)\n",
    "            tree = etree.HTML(response)\n",
    "            d = {}\n",
    "            d['index'] = self.info_url.split('/')[-1]\n",
    "            d['name'] = tree.xpath('//*[@id=\"basic-info\"]/h1/text()')[0].replace(' ','').replace('\\n','')\n",
    "            d['locality_region'] = tree.xpath('//*[@id=\"basic-info\"]/div[2]/a/span/text()')[0]\n",
    "            d['street_address'] = tree.xpath('//*[@id=\"basic-info\"]/div[2]/span[2]/@title')[0]\n",
    "            try:\n",
    "                assess_number = tree.xpath('//*[@id=\"comment\"]/h2/a/span/text()')[0][1:-1]\n",
    "            except:\n",
    "                assess_number =0\n",
    "        pages = math.ceil(int(assess_number)/15)\n",
    "        # 获取评论页数\n",
    "        if pages==0:\n",
    "            driver.close()\n",
    "            return 0\n",
    "        for page in range(1,pages+1):\n",
    "            driver.get(url%str(page))\n",
    "            time.sleep(random.randint(5,10))\n",
    "            time.sleep(2)\n",
    "            # 这里把渲染后的网页保存为文件，就不用进行多次爬虫\n",
    "            html_page = driver.page_source\n",
    "            with open(self.fold_path+'/page%s.html'%str(page),'w',encoding='utf-8') as f:\n",
    "                f.write(html_page)\n",
    "        driver.close()\n",
    "        return 1\n",
    "\n",
    "    def get_dictionary(self):\n",
    "        with open(self.fold_path+'/page1.html','r') as f:\n",
    "            html_page = f.read()\n",
    "        # 第二种解析页面方法\n",
    "        css_url = re.findall('<link rel=\"stylesheet\" type=\"text/css\" href=\"(//s3plus.meituan.*?)\">', html_page)\n",
    "        css_url = 'http:{}'.format(css_url[0])\n",
    "        css_content = requests.get(css_url).text\n",
    "        with open(self.fold_path+'/css.css', 'w', encoding='utf-8') as f:  # 保存css文件\n",
    "            f.write(css_content)\n",
    "\n",
    "        # 从中得到字体\n",
    "        font = re.findall('background-image: url\\((.*?)\\);', css_content, re.S)  # 提取链接\n",
    "        font_url = 'http:{}'.format(font[0])\n",
    "        font_content = requests.get(font_url).text\n",
    "        with open(self.fold_path+'/font.svg', 'w', encoding='utf-8') as f:  # 保存文件\n",
    "            f.write(font_content)\n",
    "        return\n",
    "\n",
    "    def get_reply(self,html_page,font_content,css_content):\n",
    "        # 变长\n",
    "        y_dic = re.findall('<path id=(\"(\\d+)\") d=\"M0 (\\d+) H600\"/>',font_content)\n",
    "        y_dic = [(int(idx),int(y)) for non,idx,y in y_dic]\n",
    "        strategy =1\n",
    "        if len(y_dic)==0:\n",
    "            y_dic_2 = re.findall('<text x=\"0\" y=\"(\\d+)\">.*?</text>',font_content)\n",
    "            y_dic_2 = [int(y) for y in y_dic_2]\n",
    "            strategy = 2\n",
    "        inf = re.findall('<div class=\"review-words Hide\">(.*?)<div class=\"less-words\">', html_page, re.S)\n",
    "        inf = inf + re.findall('<div class=\"review-words\">(.*?)</div>',html_page, re.S)\n",
    "\n",
    "        replylist=[]\n",
    "        for record in inf:\n",
    "            inf_copy = record\n",
    "            svgmti = re.findall('<svgmtsi class=\"(.*?)\">', record)\n",
    "        # 对于每一个标签\n",
    "            for class_name in svgmti:\n",
    "                XY = re.findall('.%s{background:-(.*?)px -(.*?)px;}' % class_name, css_content, re.S)\n",
    "                #获得坐标\n",
    "                X = int(float(XY[0][0]) / 14)\n",
    "                # X的转换两种策略都相同\n",
    "                if strategy ==1:\n",
    "                    for i in y_dic:\n",
    "                        # print(XY[0][1])\n",
    "                        # print(i)\n",
    "                        if i[1]> int(float(XY[0][1])):\n",
    "                            Y = i[0]\n",
    "                            break\n",
    "                    fo = re.findall('<textPath xlink:href=\"#%s\" textLength=\".*?\">(.*?)</textPath>'%str(Y), font_content)\n",
    "                    # print(fo)\n",
    "                    inf_copy = re.sub(f'<svgmtsi class=\"{class_name}\"></svgmtsi>', fo[0][X], inf_copy, count=0)\n",
    "                    # 每得到一个字就把标签换掉\n",
    "                else:\n",
    "                    Y = int(float(XY[0][1]))\n",
    "                    for i in y_dic_2:\n",
    "                        if i>int(float(Y)):\n",
    "                            Y=i\n",
    "                            break\n",
    "                    fo = re.findall('<text x=\"0\" y=\"%s\">(.*?)</text>'%str(Y), font_content)\n",
    "                    inf_copy = re.sub(f'<svgmtsi class=\"{class_name}\"></svgmtsi>', fo[0][X], inf_copy, count=0)\n",
    "\n",
    "            # 删除干扰字符\n",
    "            inf_copy = re.sub('<img .*? alt=\"\">', '', inf_copy, count=0)\n",
    "            inf_copy = re.sub('</div>.*?<div class=\"review-words', '', inf_copy, count=0, flags=re.S)\n",
    "            inf_copy = inf_copy.replace('Hide\">', '')\n",
    "            inf_copy = inf_copy.replace('\">', '')\n",
    "            inf_copy = inf_copy.replace('\\n', '')\n",
    "            inf_copy = inf_copy.strip()\n",
    "            replylist.append(inf_copy)\n",
    "        return replylist\n",
    "\n",
    "\n",
    "    def run(self):\n",
    "        flag = self.get_pages_2()\n",
    "        if flag == 1:\n",
    "            self.get_dictionary()\n",
    "            with open(self.fold_path+'/font.svg','r') as f:\n",
    "                font_content = f.read()\n",
    "            with open(self.fold_path + '/css.css','r') as f:\n",
    "                css_content = f.read()\n",
    "            htmllist = os.listdir(self.fold_path)\n",
    "            replylist = []\n",
    "            for html in htmllist:\n",
    "                if 'page' in html:\n",
    "                    with open(self.fold_path+'/'+html,'r') as f:\n",
    "                        html_page = f.read()\n",
    "                replylist = replylist + self.get_reply(html_page,font_content,css_content)\n",
    "            return replylist\n",
    "        else:\n",
    "            return '无评论'"
   ],
   "metadata": {
    "collapsed": false,
    "pycharm": {
     "name": "#%%\n"
    }
   }
  },
  {
   "cell_type": "code",
   "execution_count": null,
   "outputs": [],
   "source": [
    "c = Crawler('Datafold','http://www.dianping.com/shop/k67wZzWBOaEDUtTZ')\n",
    "reply_list = c.run()"
   ],
   "metadata": {
    "collapsed": false,
    "pycharm": {
     "name": "#%%\n"
    }
   }
  },
  {
   "cell_type": "code",
   "execution_count": 64,
   "outputs": [
    {
     "name": "stdout",
     "output_type": "stream",
     "text": [
      "page1.html\n",
      "['很喜欢这个图案，清新自然这个图案比较复杂，纹身师很有耐心，技术也超棒，虽然看着很年轻，但是有8年的纹身经验，我很怕疼，在纹身之前我做了很充分的心理建设，但体验下来感觉这种痛感是完全可以接受的。纹出来的效果也超级棒，非常喜欢，真的是非常靠谱的纹身师。', '选了好多店才定的这家，纹身师是有十几年纹身经验的，图案创意和手法都很专业，过程中会经常问我疼不疼，挺温柔的，可以忍受，纹身哪有不疼的图案我选的难度比较高的水墨，从水墨笔触的还原度到渐变的渲染，都处理的很好，颜色饱和度也很高，效果很满意', '一直想做一个纹身，不知道哪家好，查询的很久，就选了这家，离我家真的非常远，不过地方还是很好找的，客服小姐姐很贴心，告诉我很多，不厌其烦的，态度非常，到店之后接待人员也很温柔，店内装潢，也是不错的，挺喜欢的', '再次来体验纹身，喜欢就拥有，纹身师帅气又有耐心，关键是技术特别好，也不咋疼，也告诉了我注意事项，最近不能吃啥，后期怎么洗，最后呈现的效果很酷，很帅。放心来！', '抱着试试的心态买了团购到店里了，员工接待很热情，在纹身是啊麟的沟通建议下，纹了一个蝴蝶加虎头的动物组合图案，非常的帅气，供大家参考', '看朋友在这家店做的纹身很棒，就点评上了解了一下，加了店长提前约着过来了，店长很专业，按我的想法纹了一个音符与心的结合，很精致，手艺很棒', '看到小伙伴纹身就有了纹身的想法，朋友推荐的一家非常不错的纹身店。电话预约了之后，店员很快就和我联系沟通。纹身过程中也一直聊天放松心情，真是痛并快乐着。', '身边朋友都是在这家店纹的，环境不错，纹的整个过程还挺顺利，纹身师的技术超级好，人也很随和，纹的特别仔细，效果很完美！', '第二次去了，在点评团购的。第一次就觉得纹身师技术很好，提前电话预约，约的还是上次的小姐姐，不得不说，纹身师的技术真的很好', '家门口新开的纹身店 位置很好找 生了孩子后想把一家三口的名字纹在身上 跟设计师说了想法 等着设计图 不喜欢的地方可以修改 最终的效果图非常满意 纹身师手法也非常专业！', '很有情调的一家纹身刺青店，一进去之后环境不错，在得知我的需求后给我提供了好几个可供选择的设计图，而且最后做出的效果也很让我满意。整个交谈中特别能体会我的感受，想顾客之所想，推荐！', '很专业的一家纹身店，店里环境不错，店员也很有礼貌，纹身师的审美和技术都非常好，最后出来的效果我很满意！', '找唐门的老师做了一个遮盖，很耐心的帮我设计，图案也换了好几个，最后选择了下边这个，很满意。', '去之前跟店里的纹身师也沟通了很久，师傅也给了很多建议。最后还是想去尝试一下。店里环境还不错，干净。纹身师的手也很稳，头一次体验，弄了个小玩意儿。', '想纹身，朋友推荐了唐门，这家店离我比较近，所以就过来了。纹身师很细心，技术娴熟，纹的过程中也比较放松。唐门是一家连锁店，大品牌值得信赖。']\n",
      "page2.html\n",
      "['出了地铁口就是，提前电话预约。店里干净卫生。可选纹身图样很多，团了个情侣款纹身，纹身师手稳，纹的小没麻醉。想纹身的朋友可以拔草了。', '闺蜜介绍的纹身店，技术挺不错的，还挺会聊天的，在纹的时候不尴尬，小哥哥还挺帅的']\n"
     ]
    }
   ],
   "source": [
    "c = Crawler('Datafold','http://www.dianping.com/shop/k67wZzWBOaEDUtTZ')\n",
    "with open(c.fold_path+'/font.svg','r') as f:\n",
    "    font_content = f.read()\n",
    "with open(c.fold_path + '/css.css','r') as f:\n",
    "    css_content = f.read()\n",
    "htmllist = os.listdir(c.fold_path)\n",
    "replylist = []\n",
    "for html in htmllist:\n",
    "    if 'page' in html:\n",
    "        with open(c.fold_path+'/'+html,'r') as f:\n",
    "            html_page = f.read()\n",
    "        replylist = replylist + c.get_reply(html_page,font_content,css_content)"
   ],
   "metadata": {
    "collapsed": false,
    "pycharm": {
     "name": "#%%\n"
    }
   }
  },
  {
   "cell_type": "code",
   "execution_count": 65,
   "outputs": [],
   "source": [
    "c = Crawler('Datafold','http://www.dianping.com/shop/G1PBax3pqvVH9HSR')\n",
    "with open(c.fold_path+'/font.svg','r') as f:\n",
    "    font_content = f.read()\n",
    "with open(c.fold_path + '/css.css','r') as f:\n",
    "    css_content = f.read()\n",
    "htmllist = os.listdir(c.fold_path)\n",
    "replylist = []\n",
    "for html in htmllist:\n",
    "    if 'page' in html:\n",
    "        with open(c.fold_path+'/'+html,'r') as f:\n",
    "            html_page = f.read()\n",
    "        replylist = replylist + c.get_reply(html_page,font_content,css_content)"
   ],
   "metadata": {
    "collapsed": false,
    "pycharm": {
     "name": "#%%\n"
    }
   }
  },
  {
   "cell_type": "code",
   "execution_count": 67,
   "outputs": [
    {
     "data": {
      "text/plain": "['[商户]商户环境/服务：第一次体验光子嫩肤，找了家附近的一家医院，一进五楼整个环境干净整洁。前台小姐姐很温柔的接待了我们.[产品]使用药品/仪器：我们登记完信息就来到了光子嫩肤室，做之前要彻底清洗干净脸部。[感受]体验中感受：做的过程中会有一丝丝刺痛，不过可以随时沟通力度.做完了会敷一片面膜来补水，仔细的交代了之后一周的护理方法。 做完了立刻觉得自己白了点呢！',\n '[商户]商户环境/服务：是永林中西医结合医院的医美科 很正规 让人放心[产品]使用药品/仪器：我本人的皮肤是混合肌 可能换季加上最近熬夜比较多 眼睛出现一点点细纹 打算做个水光针 改善一下[医生]医生操作/审美：小姐姐很温柔 稍微有一点点疼痛 也是在能接受的范围内 心里默念 会变美会变美 很快就过去了[效果]体验后效果：效果还是不错的 感觉有些改善',\n '位置非常好找，在永辉超市的西北角，永林中西医医院的五楼，进门扫流调卡和健康宝，右手边电梯上五楼。小姐姐小哥哥非常专业，态度也非常好，提前约了五点的，去了就可以做，虽然旁边的房间都有人，还算幸运。妈妈说温温润润的，做起来很舒服，全程大概五十分钟左右，小姐姐一直专心导入，也没有推荐附加项目，总体妈妈十分满意',\n '永林5楼医美，脸上有毛孔和痘印，过来做个光子嫩肤感受一下，过来因为前边的顾客加了项目没有做完，等了大概20分钟左右吧，前台小姐姐给准备了水和零食，进了房间以后有消毒液的味道，疫情期间感觉安全感满满，先敷凝胶然后用仪器打了一边，然后补了一次凝胶又用仪器扫了一边，挺细致的，做完以后敷了一片面膜，全程没有不适感。下次可以在约个时间再来做其他美容项目',\n '[产品]使用药品/仪器：团了一个光子嫩肤，想体验一下子！医生先在脸上涂了一种什么药，冰冰凉凉很舒服～[医生]医生操作/审美：医生动作轻柔，特别有耐心，本来特别紧张的我，都放松下来了。[感受]体验中感受：体验过程非常完美，又做了颈部除皱。整体一点痛感都没有！[效果]体验后效果：效果很立竿见影，不过也要坚持。皮肤嫩嫩的，颈部皱纹也好了很多！坚持✊姐妹们！加油哈环境超级好！',\n '最近换季，皮肤容易起皮，比较干燥，尽管有不定时敷补水面膜，依然干燥，听朋友的推荐来这家体验，店面位于永林三级医院，进医院大厅，做直梯上五层就是美容本店了，接待的是个漂亮小姐姐很温柔，因为客人比较多，在客厅多等了一会，美容师说话也很温柔，戴着口罩没看到脸，刚进去先领着我们去洗脸，然后做了初步的面部清洁，期间会帮我分析我的皮肤，目前存在哪些问题，平常护肤要注意的细节，边补水边聊天，同时放着轻音乐，很放松也很舒适  这次回家看看效果，不错的话，还会回来的',\n '因为工作单位更换，所以搬家搬到了这里，黄村这边还不错，购物玩乐，亲子等等都比较齐全，之前一直在其他家做美容，现在距离太远了所以很不方便。这家美容院是在点评上找到的，在医院的五层，环境很棒，房间布置的很干净，做的水光针项目，才发现都是水光针没想到这里比上一家效果要好，很明显脸部水嫩了不少，打算办个卡，以后就在这里消费了',\n '好姐妹推荐的美容院，在黄村这边还是比较有名气的，门口很好停车，价格不贵很方便，美容院在五层，出电梯就是前台接待很热情的询问有没有预约之类的，然后填表做面诊，做的光子嫩肤项目，效果很不错，小脸蛋水水嫩嫩的，脸色好看了不少，平时光靠化妆品是遮挡不住脸色肌肤的，女人还是需要保护自己呀！下次打算做个其他项目试试呢。',\n '是一家很整洁干净的医美店，里面的小姐姐都很好看和热情，服务态度超级好，店里环境也让人感到很舒适。我体验的是水光补水项目，店家服务很热情和体贴，操作温柔而且专业，过程中边做项目边讲解，清洁，精华导入，之后会敷上面膜，冰凉凉的很舒服。另外，小姐姐们还会指导平常护肤的技巧和注意事项，很良心了，棒棒哒。',\n '年纪大了眼角开始冒小细纹儿,明明很注意保养，早晚都按时用眼霜，可是最近发现法令纹还是深了不少 ,眼袋也开始有点下垂了 真的是抹多贵的眼霜都没有定期做一次光电紧致除皱类的护肤项目效果好一定要坚持，是能明显看到效果的 ，永林的医生都很专业会根据你的皮肤状态帮你选择最合适的项目 ，也会记录下你每一次护肤前后的状态进行对比图，期待看到后期效果']"
     },
     "execution_count": 67,
     "metadata": {},
     "output_type": "execute_result"
    }
   ],
   "source": [
    "replylist[:10]"
   ],
   "metadata": {
    "collapsed": false,
    "pycharm": {
     "name": "#%%\n"
    }
   }
  }
 ],
 "metadata": {
  "kernelspec": {
   "display_name": "Python 3",
   "language": "python",
   "name": "python3"
  },
  "language_info": {
   "codemirror_mode": {
    "name": "ipython",
    "version": 2
   },
   "file_extension": ".py",
   "mimetype": "text/x-python",
   "name": "python",
   "nbconvert_exporter": "python",
   "pygments_lexer": "ipython2",
   "version": "2.7.6"
  }
 },
 "nbformat": 4,
 "nbformat_minor": 0
}